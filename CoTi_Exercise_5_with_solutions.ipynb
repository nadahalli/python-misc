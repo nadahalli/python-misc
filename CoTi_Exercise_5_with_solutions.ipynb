{
  "nbformat": 4,
  "nbformat_minor": 0,
  "metadata": {
    "colab": {
      "name": "CoTi Exercise 5 with solutions.ipynb",
      "provenance": [],
      "collapsed_sections": [],
      "toc_visible": true,
      "include_colab_link": true
    },
    "kernelspec": {
      "name": "python3",
      "display_name": "Python 3"
    }
  },
  "cells": [
    {
      "cell_type": "markdown",
      "metadata": {
        "id": "view-in-github",
        "colab_type": "text"
      },
      "source": [
        "<a href=\"https://colab.research.google.com/github/nadahalli/python-misc/blob/master/CoTi_Exercise_5_with_solutions.ipynb\" target=\"_parent\"><img src=\"https://colab.research.google.com/assets/colab-badge.svg\" alt=\"Open In Colab\"/></a>"
      ]
    },
    {
      "cell_type": "markdown",
      "metadata": {
        "id": "8JgdPXVSQtJ6"
      },
      "source": [
        "# Cryptography 1"
      ]
    },
    {
      "cell_type": "markdown",
      "metadata": {
        "id": "zuq_vHJNf77F"
      },
      "source": [
        "# Exercise 1 - XOR Encryption\n",
        "\n",
        "In the beginning of the lecture we have seen one of the simplest encryption schemes, namely XOR encryption. It was even shown that XOR offers perfect security.  In this exercise, we will investigate some of the weaknesses of this type of encryption and show why we need a rigorous mathematical treatment in cryptography.\n",
        "\n"
      ]
    },
    {
      "cell_type": "code",
      "metadata": {
        "id": "LKt4OEWOfjmr"
      },
      "source": [
        "\n"
      ],
      "execution_count": null,
      "outputs": []
    },
    {
      "cell_type": "markdown",
      "metadata": {
        "id": "23I1qeowwsEP"
      },
      "source": [
        "# Exercise 2 - Primitive Roots\n",
        "Use the naive algorithm to find primitive roots of numbers of up to 2000. Sample code given below. Fill up the relevant parts below."
      ]
    },
    {
      "cell_type": "code",
      "metadata": {
        "id": "vacHbEj6w9-Y"
      },
      "source": [
        "def prim_roots(p):                                                                                                                                                                                 \n",
        "    prim_roots = set([])                                                                                                                                                                           \n",
        "    for i in range(1, p):                                                                                                                                                                          \n",
        "      # Write your code here.                                                                                                                                                                      \n",
        "    return sorted(prim_roots)\n",
        "\n",
        "assert(prim_roots(29) == [2, 3, 8, 10, 11, 14, 15, 18, 19, 21, 26, 27])"
      ],
      "execution_count": null,
      "outputs": []
    },
    {
      "cell_type": "markdown",
      "metadata": {
        "id": "jm7dcLN5CMwb"
      },
      "source": [
        "### Solution"
      ]
    },
    {
      "cell_type": "code",
      "metadata": {
        "id": "tl-NB10SCQms",
        "outputId": "c1e3632e-1b71-477f-bd47-4891aa79f5cb",
        "colab": {
          "base_uri": "https://localhost:8080/",
          "height": 34
        }
      },
      "source": [
        "# Naive algorithm to find primitive roots of a number\n",
        "def prim_roots(p):                                                                                                                                                                                 \n",
        "    prim_roots = set([])                                                                                                                                                                           \n",
        "    for i in range(1, p):                                                                                                                                                                          \n",
        "        powers = set([])                                                                                                                                                                           \n",
        "        for j in range(1, p):                                                                                                                                                                      \n",
        "            powers.add(pow(i, j, p))                                                                                                                                                               \n",
        "        # Check if all powers have been generated\n",
        "        if len(powers) == p - 1:                                                                                                                                              \n",
        "            prim_roots.add(i)\n",
        "    return sorted(prim_roots)                                                                                                                                                                      \n",
        "\n",
        "print(prim_roots(11))                                                                                                                                                                                                   \n",
        "assert(prim_roots(29) == [2, 3, 8, 10, 11, 14, 15, 18, 19, 21, 26, 27])     "
      ],
      "execution_count": null,
      "outputs": [
        {
          "output_type": "stream",
          "text": [
            "[2, 6, 7, 8]\n"
          ],
          "name": "stdout"
        }
      ]
    },
    {
      "cell_type": "markdown",
      "metadata": {
        "id": "mPoy1i84oO7w"
      },
      "source": [
        "# Exercise 3 - Additive Homomorphic ElGamal Encryption \n",
        "Let's say we want to add natural numbers such that their sum is always under 100. Can we do this homomorphically with ElGamal encryption?\n",
        "\n",
        "Hint: Use Brute Force to solve small scale Discrete Log solutions."
      ]
    },
    {
      "cell_type": "code",
      "metadata": {
        "id": "bIBTuPajoskg",
        "outputId": "6e8e55e9-da8c-44aa-88d6-8590d5f143cb",
        "colab": {
          "base_uri": "https://localhost:8080/",
          "height": 129
        }
      },
      "source": [
        "p = 61318031301932562937212532627060109757384272680362657038289971400896727152243\n",
        "g = 2\n",
        "\n",
        "import random\n",
        "\n",
        "ks = random.randint(1, p)\n",
        "kp = pow(g, ks, p)\n",
        "\n",
        "def ElGamalEncrypt(m, kp):\n",
        "  x = random.randint(1, p - 1)\n",
        "  c1 = pow(g, x, p)\n",
        "  c2 = (m * pow(kp, x, p)) % p\n",
        "  return c1, c2\n",
        "\n",
        "def ElGamalDecrypt(c1, c2, ks):\n",
        "  return (c2 * pow(c1, ks * (p - 2), p)) % p\n",
        "\n",
        "m = random.randint(1, p-1)\n",
        "c1, c2 = ElGamalEncrypt(m, kp)\n",
        "assert(m == ElGamalDecrypt(c1, c2, ks))\n",
        "\n",
        "def PreProcess(i):\n",
        "  # Fill your own code here\n",
        "  return # Something\n",
        "\n",
        "def PostProcess(decryption):\n",
        "  # Fill your own code here\n",
        "  return # Something\n",
        "\n",
        "# encryption is an array of tuples (c1, c2)\n",
        "def HomomorphicSum(encryptions):\n",
        "  c1_sum = c2_sum = # Something\n",
        "  for c1, c2 in encryptions:\n",
        "    # Fill your own code here\n",
        "  return c1_sum, c2_sum\n",
        "\n",
        "assert(45 == PostProcess(ElGamalDecrypt(*HomomorphicSum([ElGamalEncrypt(PreProcess(i), kp) for i in range(1, 10)]), ks)))\n"
      ],
      "execution_count": null,
      "outputs": [
        {
          "output_type": "error",
          "ename": "SyntaxError",
          "evalue": "ignored",
          "traceback": [
            "\u001b[0;36m  File \u001b[0;32m\"<ipython-input-8-537f0730befb>\"\u001b[0;36m, line \u001b[0;32m32\u001b[0m\n\u001b[0;31m    c1_sum = c2_sum = # Something\u001b[0m\n\u001b[0m                                 ^\u001b[0m\n\u001b[0;31mSyntaxError\u001b[0m\u001b[0;31m:\u001b[0m invalid syntax\n"
          ]
        }
      ]
    },
    {
      "cell_type": "markdown",
      "metadata": {
        "id": "5oI3R12ZFCvY"
      },
      "source": [
        "### Solution"
      ]
    },
    {
      "cell_type": "code",
      "metadata": {
        "id": "tEfYKeqzAlVu"
      },
      "source": [
        "p = 61318031301932562937212532627060109757384272680362657038289971400896727152243\n",
        "g = 2\n",
        "\n",
        "import random\n",
        "\n",
        "ks = random.randint(1, p)\n",
        "kp = pow(g, ks, p)\n",
        "\n",
        "def ElGamalEncrypt(m, kp):\n",
        "  x = random.randint(1, p - 1)\n",
        "  c1 = pow(g, x, p)\n",
        "  c2 = (m * pow(kp, x, p)) % p\n",
        "  return c1, c2\n",
        "\n",
        "def ElGamalDecrypt(c1, c2, ks):\n",
        "  return (c2 * pow(c1, ks * (p - 2), p)) % p\n",
        "\n",
        "m = random.randint(1, p-1)\n",
        "c1, c2 = ElGamalEncrypt(m, kp)\n",
        "assert(m == ElGamalDecrypt(c1, c2, ks))\n",
        "\n",
        "def PreProcess(i):\n",
        "  return pow(g, i, p)\n",
        "\n",
        "def PostProcess(decryption):\n",
        "  for i in range (1, 100):\n",
        "    if pow(g, i, p) == decryption:\n",
        "      return i\n",
        "  raise (\"PostProcessing Failed\")\n",
        "\n",
        "# encryption is an array of tuples (c1, c2)\n",
        "def HomomorphicSum(encryptions):\n",
        "  c1_sum = c2_sum = 1\n",
        "  for c1, c2 in encryptions:\n",
        "    c1_sum *= c1\n",
        "    c2_sum *= c2\n",
        "  return c1_sum, c2_sum\n",
        "\n",
        "assert(45 == PostProcess(ElGamalDecrypt(*HomomorphicSum([ElGamalEncrypt(PreProcess(i), kp) for i in range(1, 10)]), ks)))\n"
      ],
      "execution_count": 4,
      "outputs": []
    }
  ]
}